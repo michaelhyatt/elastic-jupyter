{
 "cells": [
  {
   "cell_type": "markdown",
   "id": "697636fa-a74d-42c2-b1f6-c9aa828570b1",
   "metadata": {},
   "source": [
    "# Investigating conversion of Elastic ingest pipelines into Cribl worker mappers"
   ]
  },
  {
   "cell_type": "markdown",
   "id": "7cb4d64a-1e78-4c2d-887f-24e787d8235b",
   "metadata": {},
   "source": [
    "## Install prerequisite packages"
   ]
  },
  {
   "cell_type": "code",
   "execution_count": 15,
   "id": "8e339631-6d1d-46ed-8bb6-3712ccc88bb7",
   "metadata": {
    "scrolled": true
   },
   "outputs": [
    {
     "name": "stdout",
     "output_type": "stream",
     "text": [
      "\u001b[33mWARNING: The directory '/home/jovyan/.cache/pip' or its parent directory is not owned or is not writable by the current user. The cache has been disabled. Check the permissions and owner of that directory. If executing pip with sudo, you should use sudo's -H flag.\u001b[0m\u001b[33m\n",
      "\u001b[0mRequirement already satisfied: elasticsearch in /opt/conda/lib/python3.11/site-packages (8.15.0)\n",
      "Requirement already satisfied: google-generativeai in /opt/conda/lib/python3.11/site-packages (0.7.2)\n",
      "Requirement already satisfied: ipywidgets in /opt/conda/lib/python3.11/site-packages (8.1.5)\n",
      "Requirement already satisfied: tqdm in /opt/conda/lib/python3.11/site-packages (4.66.1)\n",
      "Requirement already satisfied: elastic-transport<9,>=8.13 in /opt/conda/lib/python3.11/site-packages (from elasticsearch) (8.15.0)\n",
      "Requirement already satisfied: google-ai-generativelanguage==0.6.6 in /opt/conda/lib/python3.11/site-packages (from google-generativeai) (0.6.6)\n",
      "Requirement already satisfied: google-api-core in /opt/conda/lib/python3.11/site-packages (from google-generativeai) (2.19.2)\n",
      "Requirement already satisfied: google-api-python-client in /opt/conda/lib/python3.11/site-packages (from google-generativeai) (2.144.0)\n",
      "Requirement already satisfied: google-auth>=2.15.0 in /opt/conda/lib/python3.11/site-packages (from google-generativeai) (2.34.0)\n",
      "Requirement already satisfied: protobuf in /opt/conda/lib/python3.11/site-packages (from google-generativeai) (4.25.4)\n",
      "Requirement already satisfied: pydantic in /opt/conda/lib/python3.11/site-packages (from google-generativeai) (2.9.0)\n",
      "Requirement already satisfied: typing-extensions in /opt/conda/lib/python3.11/site-packages (from google-generativeai) (4.8.0)\n",
      "Requirement already satisfied: proto-plus<2.0.0dev,>=1.22.3 in /opt/conda/lib/python3.11/site-packages (from google-ai-generativelanguage==0.6.6->google-generativeai) (1.24.0)\n",
      "Requirement already satisfied: comm>=0.1.3 in /opt/conda/lib/python3.11/site-packages (from ipywidgets) (0.1.4)\n",
      "Requirement already satisfied: ipython>=6.1.0 in /opt/conda/lib/python3.11/site-packages (from ipywidgets) (8.16.1)\n",
      "Requirement already satisfied: traitlets>=4.3.1 in /opt/conda/lib/python3.11/site-packages (from ipywidgets) (5.11.2)\n",
      "Requirement already satisfied: widgetsnbextension~=4.0.12 in /opt/conda/lib/python3.11/site-packages (from ipywidgets) (4.0.13)\n",
      "Requirement already satisfied: jupyterlab-widgets~=3.0.12 in /opt/conda/lib/python3.11/site-packages (from ipywidgets) (3.0.13)\n",
      "Requirement already satisfied: urllib3<3,>=1.26.2 in /opt/conda/lib/python3.11/site-packages (from elastic-transport<9,>=8.13->elasticsearch) (2.0.7)\n",
      "Requirement already satisfied: certifi in /opt/conda/lib/python3.11/site-packages (from elastic-transport<9,>=8.13->elasticsearch) (2023.7.22)\n",
      "Requirement already satisfied: googleapis-common-protos<2.0.dev0,>=1.56.2 in /opt/conda/lib/python3.11/site-packages (from google-api-core->google-generativeai) (1.65.0)\n",
      "Requirement already satisfied: requests<3.0.0.dev0,>=2.18.0 in /opt/conda/lib/python3.11/site-packages (from google-api-core->google-generativeai) (2.31.0)\n",
      "Requirement already satisfied: cachetools<6.0,>=2.0.0 in /opt/conda/lib/python3.11/site-packages (from google-auth>=2.15.0->google-generativeai) (5.5.0)\n",
      "Requirement already satisfied: pyasn1-modules>=0.2.1 in /opt/conda/lib/python3.11/site-packages (from google-auth>=2.15.0->google-generativeai) (0.4.0)\n",
      "Requirement already satisfied: rsa<5,>=3.1.4 in /opt/conda/lib/python3.11/site-packages (from google-auth>=2.15.0->google-generativeai) (4.9)\n",
      "Requirement already satisfied: backcall in /opt/conda/lib/python3.11/site-packages (from ipython>=6.1.0->ipywidgets) (0.2.0)\n",
      "Requirement already satisfied: decorator in /opt/conda/lib/python3.11/site-packages (from ipython>=6.1.0->ipywidgets) (5.1.1)\n",
      "Requirement already satisfied: jedi>=0.16 in /opt/conda/lib/python3.11/site-packages (from ipython>=6.1.0->ipywidgets) (0.19.1)\n",
      "Requirement already satisfied: matplotlib-inline in /opt/conda/lib/python3.11/site-packages (from ipython>=6.1.0->ipywidgets) (0.1.6)\n",
      "Requirement already satisfied: pickleshare in /opt/conda/lib/python3.11/site-packages (from ipython>=6.1.0->ipywidgets) (0.7.5)\n",
      "Requirement already satisfied: prompt-toolkit!=3.0.37,<3.1.0,>=3.0.30 in /opt/conda/lib/python3.11/site-packages (from ipython>=6.1.0->ipywidgets) (3.0.39)\n",
      "Requirement already satisfied: pygments>=2.4.0 in /opt/conda/lib/python3.11/site-packages (from ipython>=6.1.0->ipywidgets) (2.16.1)\n",
      "Requirement already satisfied: stack-data in /opt/conda/lib/python3.11/site-packages (from ipython>=6.1.0->ipywidgets) (0.6.2)\n",
      "Requirement already satisfied: pexpect>4.3 in /opt/conda/lib/python3.11/site-packages (from ipython>=6.1.0->ipywidgets) (4.8.0)\n",
      "Requirement already satisfied: httplib2<1.dev0,>=0.19.0 in /opt/conda/lib/python3.11/site-packages (from google-api-python-client->google-generativeai) (0.22.0)\n",
      "Requirement already satisfied: google-auth-httplib2<1.0.0,>=0.2.0 in /opt/conda/lib/python3.11/site-packages (from google-api-python-client->google-generativeai) (0.2.0)\n",
      "Requirement already satisfied: uritemplate<5,>=3.0.1 in /opt/conda/lib/python3.11/site-packages (from google-api-python-client->google-generativeai) (4.1.1)\n",
      "Requirement already satisfied: annotated-types>=0.4.0 in /opt/conda/lib/python3.11/site-packages (from pydantic->google-generativeai) (0.7.0)\n",
      "Requirement already satisfied: pydantic-core==2.23.2 in /opt/conda/lib/python3.11/site-packages (from pydantic->google-generativeai) (2.23.2)\n",
      "Requirement already satisfied: tzdata in /opt/conda/lib/python3.11/site-packages (from pydantic->google-generativeai) (2024.1)\n",
      "Requirement already satisfied: grpcio<2.0dev,>=1.33.2 in /opt/conda/lib/python3.11/site-packages (from google-api-core[grpc]!=2.0.*,!=2.1.*,!=2.10.*,!=2.2.*,!=2.3.*,!=2.4.*,!=2.5.*,!=2.6.*,!=2.7.*,!=2.8.*,!=2.9.*,<3.0.0dev,>=1.34.1->google-ai-generativelanguage==0.6.6->google-generativeai) (1.66.1)\n",
      "Requirement already satisfied: grpcio-status<2.0.dev0,>=1.33.2 in /opt/conda/lib/python3.11/site-packages (from google-api-core[grpc]!=2.0.*,!=2.1.*,!=2.10.*,!=2.2.*,!=2.3.*,!=2.4.*,!=2.5.*,!=2.6.*,!=2.7.*,!=2.8.*,!=2.9.*,<3.0.0dev,>=1.34.1->google-ai-generativelanguage==0.6.6->google-generativeai) (1.62.3)\n",
      "Requirement already satisfied: pyparsing!=3.0.0,!=3.0.1,!=3.0.2,!=3.0.3,<4,>=2.4.2 in /opt/conda/lib/python3.11/site-packages (from httplib2<1.dev0,>=0.19.0->google-api-python-client->google-generativeai) (3.1.4)\n",
      "Requirement already satisfied: parso<0.9.0,>=0.8.3 in /opt/conda/lib/python3.11/site-packages (from jedi>=0.16->ipython>=6.1.0->ipywidgets) (0.8.3)\n",
      "Requirement already satisfied: ptyprocess>=0.5 in /opt/conda/lib/python3.11/site-packages (from pexpect>4.3->ipython>=6.1.0->ipywidgets) (0.7.0)\n",
      "Requirement already satisfied: wcwidth in /opt/conda/lib/python3.11/site-packages (from prompt-toolkit!=3.0.37,<3.1.0,>=3.0.30->ipython>=6.1.0->ipywidgets) (0.2.8)\n",
      "Requirement already satisfied: pyasn1<0.7.0,>=0.4.6 in /opt/conda/lib/python3.11/site-packages (from pyasn1-modules>=0.2.1->google-auth>=2.15.0->google-generativeai) (0.6.0)\n",
      "Requirement already satisfied: charset-normalizer<4,>=2 in /opt/conda/lib/python3.11/site-packages (from requests<3.0.0.dev0,>=2.18.0->google-api-core->google-generativeai) (3.3.0)\n",
      "Requirement already satisfied: idna<4,>=2.5 in /opt/conda/lib/python3.11/site-packages (from requests<3.0.0.dev0,>=2.18.0->google-api-core->google-generativeai) (3.4)\n",
      "Requirement already satisfied: executing>=1.2.0 in /opt/conda/lib/python3.11/site-packages (from stack-data->ipython>=6.1.0->ipywidgets) (1.2.0)\n",
      "Requirement already satisfied: asttokens>=2.1.0 in /opt/conda/lib/python3.11/site-packages (from stack-data->ipython>=6.1.0->ipywidgets) (2.4.0)\n",
      "Requirement already satisfied: pure-eval in /opt/conda/lib/python3.11/site-packages (from stack-data->ipython>=6.1.0->ipywidgets) (0.2.2)\n",
      "Requirement already satisfied: six>=1.12.0 in /opt/conda/lib/python3.11/site-packages (from asttokens>=2.1.0->stack-data->ipython>=6.1.0->ipywidgets) (1.16.0)\n",
      "\u001b[33mWARNING: Running pip as the 'root' user can result in broken permissions and conflicting behaviour with the system package manager. It is recommended to use a virtual environment instead: https://pip.pypa.io/warnings/venv\u001b[0m\u001b[33m\n",
      "\u001b[0m"
     ]
    }
   ],
   "source": [
    "!pip install elasticsearch google-generativeai ipywidgets tqdm"
   ]
  },
  {
   "cell_type": "markdown",
   "id": "0a9209f0-1e79-43a4-8422-4f634d1fa7fb",
   "metadata": {},
   "source": [
    "## Create a connection to Elasticsearch"
   ]
  },
  {
   "cell_type": "code",
   "execution_count": 6,
   "id": "8eebde59-d2ae-4576-b2dc-6a36c8b88744",
   "metadata": {},
   "outputs": [
    {
     "data": {
      "text/plain": [
       "{'name': 'es01',\n",
       " 'cluster_name': 'docker-cluster',\n",
       " 'cluster_uuid': 'yqxqbj8fQ1qwpZVzo2LICQ',\n",
       " 'version': {'number': '8.15.1',\n",
       "  'build_flavor': 'default',\n",
       "  'build_type': 'docker',\n",
       "  'build_hash': '253e8544a65ad44581194068936f2a5d57c2c051',\n",
       "  'build_date': '2024-09-02T22:04:47.310170297Z',\n",
       "  'build_snapshot': False,\n",
       "  'lucene_version': '9.11.1',\n",
       "  'minimum_wire_compatibility_version': '7.17.0',\n",
       "  'minimum_index_compatibility_version': '7.0.0'},\n",
       " 'tagline': 'You Know, for Search'}"
      ]
     },
     "execution_count": 6,
     "metadata": {},
     "output_type": "execute_result"
    }
   ],
   "source": [
    "from elasticsearch import Elasticsearch\n",
    "import os\n",
    "\n",
    "# Password for the 'elastic' user generated by Elasticsearch\n",
    "ELASTIC_PASSWORD = os.getenv('ELASTIC_PASSWORD')\n",
    "\n",
    "# Create the client instance\n",
    "client = Elasticsearch(\n",
    "    \"https://es01:9200\",\n",
    "    basic_auth=(\"elastic\", ELASTIC_PASSWORD),\n",
    "    ca_certs=\"/certs/ca/ca.crt\"\n",
    ")\n",
    "\n",
    "# Successful response!\n",
    "body = client.info().body\n",
    "# {'name': 'instance-0000000000', 'cluster_name': ...}\n",
    "\n",
    "body"
   ]
  },
  {
   "cell_type": "markdown",
   "id": "103a86fd-2d7d-497f-aa65-b198b1eb25e9",
   "metadata": {},
   "source": [
    "## Retrieve and manipulate the ingest pipeline"
   ]
  },
  {
   "cell_type": "code",
   "execution_count": 8,
   "id": "f0ebd20d-0c9b-43c7-b6fb-f4caf7d2cf7c",
   "metadata": {},
   "outputs": [],
   "source": [
    "PIPELINE_NAME = 'logs-crowdstrike.fdr-1.40.0'\n",
    "\n",
    "pipeline = client.ingest.get_pipeline(id=PIPELINE_NAME).body"
   ]
  },
  {
   "cell_type": "code",
   "execution_count": 9,
   "id": "eb4fb911-d178-44b4-a5b5-17e19473e319",
   "metadata": {
    "scrolled": true
   },
   "outputs": [],
   "source": [
    "import json\n",
    "\n",
    "processors = pipeline[PIPELINE_NAME]['processors']\n",
    "\n",
    "processors_json = json.dumps(processors)"
   ]
  },
  {
   "cell_type": "markdown",
   "id": "aaff74fb-2cb1-4d3f-b456-7da4ccb55873",
   "metadata": {},
   "source": [
    "## Connect to Gemini API"
   ]
  },
  {
   "cell_type": "code",
   "execution_count": 48,
   "id": "254ff7dd-09d4-4de4-9974-d3efab683927",
   "metadata": {},
   "outputs": [],
   "source": [
    "system_instruction=\"\"\"\n",
    "You are an expert in Elasticsearch ingest pipelines. \n",
    "\n",
    "You will receive a JSON representation of an ingest pipeline fragment containing processors. \n",
    "Your task is to explain this pipeline step-by-step, describing each processor in the order they appear. \n",
    "\n",
    "For each processor:\n",
    "- Identify the processor type.\n",
    "- Explain its purpose. Describe how it modifies or interacts with the document being processed. If it is a script processor, explain what the code block is doing in details.\n",
    "- Specify the link to it's documentation page on elastic.co documentation site. Provide link as text only.\n",
    "- Mention any conditions applied to the processor.\n",
    "- Specify the event tags, if the event has tags.\n",
    "\n",
    "Provide a new paragraph when describing each processor without numbering the paragraph. \n",
    "Preserve the order of processor appearance in the pipeline fragment. \n",
    "Identify processors one at a time and don't group processors.\n",
    "\n",
    "If you encounter any unfamiliar processors or need additional information, consult the official Elasticsearch documentation to ensure accuracy. \n",
    "Provide a clear, concise explanation that a developer familiar with Elasticsearch could understand.\n",
    "\"\"\"\n",
    "\n",
    "prompt = \"\"\"\n",
    " Describe the processors in the following ingest pipeline fragment:\n",
    "\"\"\""
   ]
  },
  {
   "cell_type": "code",
   "execution_count": 49,
   "id": "540df6be-e7cd-4eca-8403-370a131bd833",
   "metadata": {},
   "outputs": [],
   "source": [
    "import google.generativeai as genai\n",
    "import os\n",
    "\n",
    "genai.configure(api_key=os.environ[\"GEMINI_API_KEY\"])"
   ]
  },
  {
   "cell_type": "code",
   "execution_count": 50,
   "id": "6e907a25-22f1-49ea-8078-79aa4f61e848",
   "metadata": {},
   "outputs": [],
   "source": [
    "# Response JSON schema\n",
    "import typing_extensions as typing\n",
    "\n",
    "\n",
    "class Processor(typing.TypedDict):\n",
    "    processor_type: str\n",
    "    purpose: str\n",
    "    documentation_link: str\n",
    "    conditions: list[str]\n",
    "    tags: str\n",
    "    "
   ]
  },
  {
   "cell_type": "code",
   "execution_count": 54,
   "id": "cf538cc5-c908-4f18-ae3a-8528690663f9",
   "metadata": {},
   "outputs": [
    {
     "data": {
      "application/vnd.jupyter.widget-view+json": {
       "model_id": "a20b41b2031e4b80b79c667859a205aa",
       "version_major": 2,
       "version_minor": 0
      },
      "text/plain": [
       "  0%|          | 0/42 [00:00<?, ?it/s]"
      ]
     },
     "metadata": {},
     "output_type": "display_data"
    },
    {
     "ename": "ValueError",
     "evalue": "Invalid operation: The `response.text` quick accessor requires the response to contain a valid `Part`, but none were returned. Please check the `candidate.safety_ratings` to determine if the response was blocked.",
     "output_type": "error",
     "traceback": [
      "\u001b[0;31m---------------------------------------------------------------------------\u001b[0m",
      "\u001b[0;31mValueError\u001b[0m                                Traceback (most recent call last)",
      "Cell \u001b[0;32mIn[54], line 28\u001b[0m\n\u001b[1;32m     26\u001b[0m \u001b[38;5;28;01mfor\u001b[39;00m i \u001b[38;5;129;01min\u001b[39;00m \u001b[38;5;28mrange\u001b[39m(\u001b[38;5;28mlen\u001b[39m(processor_chunks)):\n\u001b[1;32m     27\u001b[0m     response \u001b[38;5;241m=\u001b[39m model\u001b[38;5;241m.\u001b[39mgenerate_content(prompt \u001b[38;5;241m+\u001b[39m json\u001b[38;5;241m.\u001b[39mdumps(processor_chunks[i]), generation_config\u001b[38;5;241m=\u001b[39mgeneration_config)\n\u001b[0;32m---> 28\u001b[0m     combined_response\u001b[38;5;241m.\u001b[39mextend(json\u001b[38;5;241m.\u001b[39mloads(\u001b[43mresponse\u001b[49m\u001b[38;5;241;43m.\u001b[39;49m\u001b[43mtext\u001b[49m))\n\u001b[1;32m     29\u001b[0m     progress_bar\u001b[38;5;241m.\u001b[39mupdate(\u001b[38;5;241m1\u001b[39m)\n",
      "File \u001b[0;32m/opt/conda/lib/python3.11/site-packages/google/generativeai/types/generation_types.py:436\u001b[0m, in \u001b[0;36mBaseGenerateContentResponse.text\u001b[0;34m(self)\u001b[0m\n\u001b[1;32m    434\u001b[0m parts \u001b[38;5;241m=\u001b[39m \u001b[38;5;28mself\u001b[39m\u001b[38;5;241m.\u001b[39mparts\n\u001b[1;32m    435\u001b[0m \u001b[38;5;28;01mif\u001b[39;00m \u001b[38;5;129;01mnot\u001b[39;00m parts:\n\u001b[0;32m--> 436\u001b[0m     \u001b[38;5;28;01mraise\u001b[39;00m \u001b[38;5;167;01mValueError\u001b[39;00m(\n\u001b[1;32m    437\u001b[0m         \u001b[38;5;124m\"\u001b[39m\u001b[38;5;124mInvalid operation: The `response.text` quick accessor requires the response to contain a valid `Part`, \u001b[39m\u001b[38;5;124m\"\u001b[39m\n\u001b[1;32m    438\u001b[0m         \u001b[38;5;124m\"\u001b[39m\u001b[38;5;124mbut none were returned. Please check the `candidate.safety_ratings` to determine if the response was blocked.\u001b[39m\u001b[38;5;124m\"\u001b[39m\n\u001b[1;32m    439\u001b[0m     )\n\u001b[1;32m    441\u001b[0m texts \u001b[38;5;241m=\u001b[39m []\n\u001b[1;32m    442\u001b[0m \u001b[38;5;28;01mfor\u001b[39;00m part \u001b[38;5;129;01min\u001b[39;00m parts:\n",
      "\u001b[0;31mValueError\u001b[0m: Invalid operation: The `response.text` quick accessor requires the response to contain a valid `Part`, but none were returned. Please check the `candidate.safety_ratings` to determine if the response was blocked."
     ]
    }
   ],
   "source": [
    "import json\n",
    "from tqdm.notebook import tqdm\n",
    "\n",
    "ARRAY_LENGTH=5\n",
    "\n",
    "def split_array(arr, X):\n",
    "    return [arr[i:i + X] for i in range(0, len(arr), X)]\n",
    "\n",
    "model_parameters = {\n",
    "    \"system_instruction\": system_instruction\n",
    "}\n",
    "\n",
    "model = genai.GenerativeModel('gemini-1.5-flash-latest', **model_parameters)\n",
    "\n",
    "generation_config=genai.types.GenerationConfig(\n",
    "    response_mime_type=\"application/json\",\n",
    "    response_schema=list[Processor],\n",
    "    temperature=0,\n",
    "    \n",
    ")\n",
    "\n",
    "combined_response = []\n",
    "processor_chunks =  split_array(processors, ARRAY_LENGTH)\n",
    "progress_bar = tqdm(total=len(processor_chunks))\n",
    "\n",
    "for i in range(len(processor_chunks)):\n",
    "    response = model.generate_content(prompt + json.dumps(processor_chunks[i]), generation_config=generation_config)\n",
    "    combined_response.extend(json.loads(response.text))\n",
    "    progress_bar.update(1)"
   ]
  },
  {
   "cell_type": "code",
   "execution_count": null,
   "id": "a276e9c8-d6fd-4484-acf0-87ed9841dd30",
   "metadata": {},
   "outputs": [],
   "source": [
    "response.text"
   ]
  },
  {
   "cell_type": "code",
   "execution_count": null,
   "id": "0c49cecc-ed80-4172-9a90-36b8e6858c68",
   "metadata": {},
   "outputs": [],
   "source": [
    "from IPython.display import display, JSON\n",
    "\n",
    "display(JSON(combined_response))"
   ]
  },
  {
   "cell_type": "code",
   "execution_count": null,
   "id": "23cd6b5b-7b70-404d-b416-55b2f8121b02",
   "metadata": {},
   "outputs": [],
   "source": [
    "print(json.dumps(combined_response, indent=4))"
   ]
  },
  {
   "cell_type": "code",
   "execution_count": null,
   "id": "cb920108-1254-4ca5-acc5-44978c8e3a23",
   "metadata": {},
   "outputs": [],
   "source": []
  }
 ],
 "metadata": {
  "kernelspec": {
   "display_name": "Python 3 (ipykernel)",
   "language": "python",
   "name": "python3"
  },
  "language_info": {
   "codemirror_mode": {
    "name": "ipython",
    "version": 3
   },
   "file_extension": ".py",
   "mimetype": "text/x-python",
   "name": "python",
   "nbconvert_exporter": "python",
   "pygments_lexer": "ipython3",
   "version": "3.11.6"
  }
 },
 "nbformat": 4,
 "nbformat_minor": 5
}
