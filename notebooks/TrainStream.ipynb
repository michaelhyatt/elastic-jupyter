{
 "cells": [
  {
   "cell_type": "code",
   "execution_count": 7,
   "id": "ecae8f68-d39d-4f60-a628-223c1e395492",
   "metadata": {
    "scrolled": true
   },
   "outputs": [
    {
     "name": "stdout",
     "output_type": "stream",
     "text": [
      "\u001b[33mWARNING: The directory '/home/jovyan/.cache/pip' or its parent directory is not owned or is not writable by the current user. The cache has been disabled. Check the permissions and owner of that directory. If executing pip with sudo, you should use sudo's -H flag.\u001b[0m\u001b[33m\n",
      "\u001b[0mRequirement already satisfied: google-generativeai in /opt/conda/lib/python3.11/site-packages (0.7.2)\n",
      "Requirement already satisfied: IPython in /opt/conda/lib/python3.11/site-packages (8.16.1)\n",
      "Requirement already satisfied: google-ai-generativelanguage==0.6.6 in /opt/conda/lib/python3.11/site-packages (from google-generativeai) (0.6.6)\n",
      "Requirement already satisfied: google-api-core in /opt/conda/lib/python3.11/site-packages (from google-generativeai) (2.19.2)\n",
      "Requirement already satisfied: google-api-python-client in /opt/conda/lib/python3.11/site-packages (from google-generativeai) (2.144.0)\n",
      "Requirement already satisfied: google-auth>=2.15.0 in /opt/conda/lib/python3.11/site-packages (from google-generativeai) (2.34.0)\n",
      "Requirement already satisfied: protobuf in /opt/conda/lib/python3.11/site-packages (from google-generativeai) (4.25.4)\n",
      "Requirement already satisfied: pydantic in /opt/conda/lib/python3.11/site-packages (from google-generativeai) (2.9.0)\n",
      "Requirement already satisfied: tqdm in /opt/conda/lib/python3.11/site-packages (from google-generativeai) (4.66.1)\n",
      "Requirement already satisfied: typing-extensions in /opt/conda/lib/python3.11/site-packages (from google-generativeai) (4.8.0)\n",
      "Requirement already satisfied: proto-plus<2.0.0dev,>=1.22.3 in /opt/conda/lib/python3.11/site-packages (from google-ai-generativelanguage==0.6.6->google-generativeai) (1.24.0)\n",
      "Requirement already satisfied: backcall in /opt/conda/lib/python3.11/site-packages (from IPython) (0.2.0)\n",
      "Requirement already satisfied: decorator in /opt/conda/lib/python3.11/site-packages (from IPython) (5.1.1)\n",
      "Requirement already satisfied: jedi>=0.16 in /opt/conda/lib/python3.11/site-packages (from IPython) (0.19.1)\n",
      "Requirement already satisfied: matplotlib-inline in /opt/conda/lib/python3.11/site-packages (from IPython) (0.1.6)\n",
      "Requirement already satisfied: pickleshare in /opt/conda/lib/python3.11/site-packages (from IPython) (0.7.5)\n",
      "Requirement already satisfied: prompt-toolkit!=3.0.37,<3.1.0,>=3.0.30 in /opt/conda/lib/python3.11/site-packages (from IPython) (3.0.39)\n",
      "Requirement already satisfied: pygments>=2.4.0 in /opt/conda/lib/python3.11/site-packages (from IPython) (2.16.1)\n",
      "Requirement already satisfied: stack-data in /opt/conda/lib/python3.11/site-packages (from IPython) (0.6.2)\n",
      "Requirement already satisfied: traitlets>=5 in /opt/conda/lib/python3.11/site-packages (from IPython) (5.11.2)\n",
      "Requirement already satisfied: pexpect>4.3 in /opt/conda/lib/python3.11/site-packages (from IPython) (4.8.0)\n",
      "Requirement already satisfied: googleapis-common-protos<2.0.dev0,>=1.56.2 in /opt/conda/lib/python3.11/site-packages (from google-api-core->google-generativeai) (1.65.0)\n",
      "Requirement already satisfied: requests<3.0.0.dev0,>=2.18.0 in /opt/conda/lib/python3.11/site-packages (from google-api-core->google-generativeai) (2.31.0)\n",
      "Requirement already satisfied: cachetools<6.0,>=2.0.0 in /opt/conda/lib/python3.11/site-packages (from google-auth>=2.15.0->google-generativeai) (5.5.0)\n",
      "Requirement already satisfied: pyasn1-modules>=0.2.1 in /opt/conda/lib/python3.11/site-packages (from google-auth>=2.15.0->google-generativeai) (0.4.0)\n",
      "Requirement already satisfied: rsa<5,>=3.1.4 in /opt/conda/lib/python3.11/site-packages (from google-auth>=2.15.0->google-generativeai) (4.9)\n",
      "Requirement already satisfied: parso<0.9.0,>=0.8.3 in /opt/conda/lib/python3.11/site-packages (from jedi>=0.16->IPython) (0.8.3)\n",
      "Requirement already satisfied: ptyprocess>=0.5 in /opt/conda/lib/python3.11/site-packages (from pexpect>4.3->IPython) (0.7.0)\n",
      "Requirement already satisfied: wcwidth in /opt/conda/lib/python3.11/site-packages (from prompt-toolkit!=3.0.37,<3.1.0,>=3.0.30->IPython) (0.2.8)\n",
      "Requirement already satisfied: httplib2<1.dev0,>=0.19.0 in /opt/conda/lib/python3.11/site-packages (from google-api-python-client->google-generativeai) (0.22.0)\n",
      "Requirement already satisfied: google-auth-httplib2<1.0.0,>=0.2.0 in /opt/conda/lib/python3.11/site-packages (from google-api-python-client->google-generativeai) (0.2.0)\n",
      "Requirement already satisfied: uritemplate<5,>=3.0.1 in /opt/conda/lib/python3.11/site-packages (from google-api-python-client->google-generativeai) (4.1.1)\n",
      "Requirement already satisfied: annotated-types>=0.4.0 in /opt/conda/lib/python3.11/site-packages (from pydantic->google-generativeai) (0.7.0)\n",
      "Requirement already satisfied: pydantic-core==2.23.2 in /opt/conda/lib/python3.11/site-packages (from pydantic->google-generativeai) (2.23.2)\n",
      "Requirement already satisfied: tzdata in /opt/conda/lib/python3.11/site-packages (from pydantic->google-generativeai) (2024.1)\n",
      "Requirement already satisfied: executing>=1.2.0 in /opt/conda/lib/python3.11/site-packages (from stack-data->IPython) (1.2.0)\n",
      "Requirement already satisfied: asttokens>=2.1.0 in /opt/conda/lib/python3.11/site-packages (from stack-data->IPython) (2.4.0)\n",
      "Requirement already satisfied: pure-eval in /opt/conda/lib/python3.11/site-packages (from stack-data->IPython) (0.2.2)\n",
      "Requirement already satisfied: six>=1.12.0 in /opt/conda/lib/python3.11/site-packages (from asttokens>=2.1.0->stack-data->IPython) (1.16.0)\n",
      "Requirement already satisfied: grpcio<2.0dev,>=1.33.2 in /opt/conda/lib/python3.11/site-packages (from google-api-core[grpc]!=2.0.*,!=2.1.*,!=2.10.*,!=2.2.*,!=2.3.*,!=2.4.*,!=2.5.*,!=2.6.*,!=2.7.*,!=2.8.*,!=2.9.*,<3.0.0dev,>=1.34.1->google-ai-generativelanguage==0.6.6->google-generativeai) (1.66.1)\n",
      "Requirement already satisfied: grpcio-status<2.0.dev0,>=1.33.2 in /opt/conda/lib/python3.11/site-packages (from google-api-core[grpc]!=2.0.*,!=2.1.*,!=2.10.*,!=2.2.*,!=2.3.*,!=2.4.*,!=2.5.*,!=2.6.*,!=2.7.*,!=2.8.*,!=2.9.*,<3.0.0dev,>=1.34.1->google-ai-generativelanguage==0.6.6->google-generativeai) (1.62.3)\n",
      "Requirement already satisfied: pyparsing!=3.0.0,!=3.0.1,!=3.0.2,!=3.0.3,<4,>=2.4.2 in /opt/conda/lib/python3.11/site-packages (from httplib2<1.dev0,>=0.19.0->google-api-python-client->google-generativeai) (3.1.4)\n",
      "Requirement already satisfied: pyasn1<0.7.0,>=0.4.6 in /opt/conda/lib/python3.11/site-packages (from pyasn1-modules>=0.2.1->google-auth>=2.15.0->google-generativeai) (0.6.0)\n",
      "Requirement already satisfied: charset-normalizer<4,>=2 in /opt/conda/lib/python3.11/site-packages (from requests<3.0.0.dev0,>=2.18.0->google-api-core->google-generativeai) (3.3.0)\n",
      "Requirement already satisfied: idna<4,>=2.5 in /opt/conda/lib/python3.11/site-packages (from requests<3.0.0.dev0,>=2.18.0->google-api-core->google-generativeai) (3.4)\n",
      "Requirement already satisfied: urllib3<3,>=1.21.1 in /opt/conda/lib/python3.11/site-packages (from requests<3.0.0.dev0,>=2.18.0->google-api-core->google-generativeai) (2.0.7)\n",
      "Requirement already satisfied: certifi>=2017.4.17 in /opt/conda/lib/python3.11/site-packages (from requests<3.0.0.dev0,>=2.18.0->google-api-core->google-generativeai) (2023.7.22)\n",
      "\u001b[33mWARNING: Running pip as the 'root' user can result in broken permissions and conflicting behaviour with the system package manager. It is recommended to use a virtual environment instead: https://pip.pypa.io/warnings/venv\u001b[0m\u001b[33m\n",
      "\u001b[0m"
     ]
    }
   ],
   "source": [
    "!pip install google-generativeai IPython"
   ]
  },
  {
   "cell_type": "code",
   "execution_count": 29,
   "id": "b8697f96-4a33-4d95-96a4-202d6b1820b9",
   "metadata": {},
   "outputs": [],
   "source": [
    "system_instruction=\"\"\"\n",
    "You are an expert in generating a training dataset to train another LLM to generate Cribl Stream pipelines. \n",
    "\n",
    "You will receive a JSON representation of a pipeline with an array of processors. \n",
    "You will also receive a link to the web page describing the root page of the site, which describes the processors' functionality.\n",
    "Your task is to generate a training data set that will be used to train another model to generate Cribl Stream pipelines. \n",
    "You will need to provide the output in the format that can be used to train another LLM to generate Cribl Stream pipelines based on a series of instructions.\n",
    "\"\"\""
   ]
  },
  {
   "cell_type": "code",
   "execution_count": 30,
   "id": "77c25b65-df50-47df-ac58-d2614ac85859",
   "metadata": {},
   "outputs": [],
   "source": [
    "import google.generativeai as genai\n",
    "import os\n",
    "\n",
    "genai.configure(api_key=os.environ[\"GEMINI_API_KEY\"])"
   ]
  },
  {
   "cell_type": "code",
   "execution_count": 31,
   "id": "b42a4448-6d76-4a4e-be57-9e25caedf6f2",
   "metadata": {},
   "outputs": [],
   "source": [
    "model_parameters = {\n",
    "    \"system_instruction\": system_instruction\n",
    "}\n",
    "\n",
    "model = genai.GenerativeModel('gemini-1.5-flash', **model_parameters)\n",
    "\n",
    "generation_config=genai.types.GenerationConfig(\n",
    "    temperature=0,    \n",
    ")"
   ]
  },
  {
   "cell_type": "code",
   "execution_count": 32,
   "id": "a18cf5e4-b98e-4f3f-b6c7-4066bcd5d936",
   "metadata": {},
   "outputs": [],
   "source": [
    "prompt = \"\"\"\n",
    " Documentation pages: https://docs.cribl.io/stream/\n",
    " Sample pipeline represented as JSON:\n",
    "{\n",
    "  \"id\": \"test\",\n",
    "  \"conf\": {\n",
    "    \"output\": \"default\",\n",
    "    \"streamtags\": [],\n",
    "    \"groups\": {\n",
    "    },\n",
    "    \"asyncFuncTimeout\": 1000,\n",
    "    \"functions\": [\n",
    "      {\n",
    "        \"filter\": \"true\",\n",
    "        \"conf\": {\n",
    "          \"keep\": [\n",
    "            \"_raw\",\n",
    "            \"_time\"\n",
    "          ],\n",
    "          \"remove\": [\n",
    "            \"*\"\n",
    "          ],\n",
    "          \"add\": [\n",
    "            {\n",
    "              \"disabled\": false,\n",
    "              \"name\": \"_raw\",\n",
    "              \"value\": \"_raw.replace(/[{}\\\\t]/gm,'').replace(/[\\\\n\\\\r]+/gm,',')\"\n",
    "            }\n",
    "          ]\n",
    "        },\n",
    "        \"id\": \"eval\",\n",
    "        \"disabled\": false\n",
    "      }\n",
    "    ]\n",
    "  }\n",
    "}\n",
    "\"\"\"\n",
    "\n",
    "response = model.generate_content(prompt, generation_config=generation_config)"
   ]
  },
  {
   "cell_type": "code",
   "execution_count": 33,
   "id": "cdd8e9ed-5e9d-4849-a0ff-6b4dac1836c6",
   "metadata": {},
   "outputs": [
    {
     "data": {
      "text/markdown": [
       "## Training Data for Cribl Stream Pipeline Generation\n",
       "\n",
       "Here's a training data set for an LLM to generate Cribl Stream pipelines, based on the provided JSON and documentation link:\n",
       "\n",
       "**Format:**\n",
       "\n",
       "```json\n",
       "{\n",
       "  \"instruction\": \"Generate a Cribl Stream pipeline that...\",\n",
       "  \"input\": {\n",
       "    \"json\": \"...\", // JSON representation of the pipeline\n",
       "    \"documentation_link\": \"...\" // Link to the documentation\n",
       "  },\n",
       "  \"output\": {\n",
       "    \"json\": \"...\", // Expected JSON output of the pipeline\n",
       "    \"description\": \"...\" // Description of the pipeline and its functionality\n",
       "  }\n",
       "}\n",
       "```\n",
       "\n",
       "**Example 1:**\n",
       "\n",
       "```json\n",
       "{\n",
       "  \"instruction\": \"Generate a Cribl Stream pipeline that removes all fields except '_raw' and '_time', and then replaces all occurrences of curly braces, tabs, newlines, and carriage returns in the '_raw' field with commas.\",\n",
       "  \"input\": {\n",
       "    \"json\": \"{ \\\"id\\\": \\\"test\\\", \\\"conf\\\": { \\\"output\\\": \\\"default\\\", \\\"streamtags\\\": [], \\\"groups\\\": {}, \\\"asyncFuncTimeout\\\": 1000, \\\"functions\\\": [ { \\\"filter\\\": \\\"true\\\", \\\"conf\\\": { \\\"keep\\\": [ \\\"_raw\\\", \\\"_time\\\" ], \\\"remove\\\": [ \\\"*\\\" ], \\\"add\\\": [ { \\\"disabled\\\": false, \\\"name\\\": \\\"_raw\\\", \\\"value\\\": \\\"_raw.replace(/[{}\\t]/gm,'').replace(/[\\n\\r]+/gm,',')\\\" } ] }, \\\"id\\\": \\\"eval\\\", \\\"disabled\\\": false } ] } }\",\n",
       "    \"documentation_link\": \"https://docs.cribl.io/stream/\"\n",
       "  },\n",
       "  \"output\": {\n",
       "    \"json\": \"{ \\\"id\\\": \\\"test\\\", \\\"conf\\\": { \\\"output\\\": \\\"default\\\", \\\"streamtags\\\": [], \\\"groups\\\": {}, \\\"asyncFuncTimeout\\\": 1000, \\\"functions\\\": [ { \\\"filter\\\": \\\"true\\\", \\\"conf\\\": { \\\"keep\\\": [ \\\"_raw\\\", \\\"_time\\\" ], \\\"remove\\\": [ \\\"*\\\" ], \\\"add\\\": [ { \\\"disabled\\\": false, \\\"name\\\": \\\"_raw\\\", \\\"value\\\": \\\"_raw.replace(/[{}\\t]/gm,'').replace(/[\\n\\r]+/gm,',')\\\" } ] }, \\\"id\\\": \\\"eval\\\", \\\"disabled\\\": false } ] } }\",\n",
       "    \"description\": \"This pipeline removes all fields except '_raw' and '_time', and then replaces all occurrences of curly braces, tabs, newlines, and carriage returns in the '_raw' field with commas. This is useful for cleaning up log data before sending it to a downstream system.\"\n",
       "  }\n",
       "}\n",
       "```\n",
       "\n",
       "**Example 2:**\n",
       "\n",
       "```json\n",
       "{\n",
       "  \"instruction\": \"Generate a Cribl Stream pipeline that extracts the hostname from the '_raw' field and adds it as a new field called 'hostname'.\",\n",
       "  \"input\": {\n",
       "    \"json\": \"{ \\\"id\\\": \\\"test\\\", \\\"conf\\\": { \\\"output\\\": \\\"default\\\", \\\"streamtags\\\": [], \\\"groups\\\": {}, \\\"asyncFuncTimeout\\\": 1000, \\\"functions\\\": [] } }\",\n",
       "    \"documentation_link\": \"https://docs.cribl.io/stream/\"\n",
       "  },\n",
       "  \"output\": {\n",
       "    \"json\": \"{ \\\"id\\\": \\\"test\\\", \\\"conf\\\": { \\\"output\\\": \\\"default\\\", \\\"streamtags\\\": [], \\\"groups\\\": {}, \\\"asyncFuncTimeout\\\": 1000, \\\"functions\\\": [ { \\\"filter\\\": \\\"true\\\", \\\"conf\\\": { \\\"add\\\": [ { \\\"disabled\\\": false, \\\"name\\\": \\\"hostname\\\", \\\"value\\\": \\\"_raw.match(/hostname=(.*?)(?:\\\\s|$)/)[1]\\\" } ] }, \\\"id\\\": \\\"eval\\\", \\\"disabled\\\": false } ] } }\",\n",
       "    \"description\": \"This pipeline extracts the hostname from the '_raw' field using a regular expression and adds it as a new field called 'hostname'. This is useful for identifying the source of log events.\"\n",
       "  }\n",
       "}\n",
       "```\n",
       "\n",
       "**Example 3:**\n",
       "\n",
       "```json\n",
       "{\n",
       "  \"instruction\": \"Generate a Cribl Stream pipeline that filters out events where the 'status' field is equal to 'error' and then sends the remaining events to a Kafka topic called 'logs'.\",\n",
       "  \"input\": {\n",
       "    \"json\": \"{ \\\"id\\\": \\\"test\\\", \\\"conf\\\": { \\\"output\\\": \\\"default\\\", \\\"streamtags\\\": [], \\\"groups\\\": {}, \\\"asyncFuncTimeout\\\": 1000, \\\"functions\\\": [] } }\",\n",
       "    \"documentation_link\": \"https://docs.cribl.io/stream/\"\n",
       "  },\n",
       "  \"output\": {\n",
       "    \"json\": \"{ \\\"id\\\": \\\"test\\\", \\\"conf\\\": { \\\"output\\\": \\\"default\\\", \\\"streamtags\\\": [], \\\"groups\\\": {}, \\\"asyncFuncTimeout\\\": 1000, \\\"functions\\\": [ { \\\"filter\\\": \\\"status != 'error'\\\" }, { \\\"id\\\": \\\"kafka\\\", \\\"type\\\": \\\"kafka\\\", \\\"conf\\\": { \\\"topic\\\": \\\"logs\\\", \\\"brokers\\\": [ \\\"localhost:9092\\\" ], \\\"ssl\\\": false, \\\"sasl\\\": false, \\\"auth\\\": false, \\\"compression\\\": \\\"none\\\", \\\"key\\\": null, \\\"value\\\": \\\"_raw\\\", \\\"partitioner\\\": \\\"roundrobin\\\", \\\"maxRetries\\\": 3, \\\"timeoutMs\\\": 10000, \\\"batchSize\\\": 1000, \\\"lingerMs\\\": 10, \\\"maxInFlightRequests\\\": 5, \\\"acks\\\": 1, \\\"retries\\\": 0, \\\"enableIdempotence\\\": false, \\\"maxBlockMs\\\": 60000, \\\"metadataMaxAgeMs\\\": 300000, \\\"retryBackoffMs\\\": 100, \\\"requestTimeoutMs\\\": 30000, \\\"connectTimeoutMs\\\": 10000, \\\"sendBufferSize\\\": 102400, \\\"receiveBufferSize\\\": 102400, \\\"maxRequestSize\\\": 1048576, \\\"maxPartitionFetchBytes\\\": 1048576, \\\"fetchMinBytes\\\": 1, \\\"fetchMaxWaitMs\\\": 500, \\\"sessionTimeoutMs\\\": 60000, \\\"heartbeatIntervalMs\\\": 3000, \\\"metricPrefix\\\": \\\"kafka\\\", \\\"metricTags\\\": { \\\"topic\\\": \\\"logs\\\" }, \\\"metricInterval\\\": 10000, \\\"metricEnabled\\\": true, \\\"metricFlushInterval\\\": 10000, \\\"metricFlushSize\\\": 1000, \\\"metricFlushTimeout\\\": 10000, \\\"metricFlushMaxRetries\\\": 3, \\\"metricFlushRetryBackoffMs\\\": 100, \\\"metricFlushRequestTimeoutMs\\\": 30000, \\\"metricFlushConnectTimeoutMs\\\": 10000, \\\"metricFlushSendBufferSize\\\": 102400, \\\"metricFlushReceiveBufferSize\\\": 102400, \\\"metricFlushMaxRequestSize\\\": 1048576, \\\"metricFlushMaxPartitionFetchBytes\\\": 1048576, \\\"metricFlushFetchMinBytes\\\": 1, \\\"metricFlushFetchMaxWaitMs\\\": 500, \\\"metricFlushSessionTimeoutMs\\\": 60000, \\\"metricFlushHeartbeatIntervalMs\\\": 3000, \\\"metricFlushMetricPrefix\\\": \\\"kafka\\\", \\\"metricFlushMetricTags\\\": { \\\"topic\\\": \\\"logs\\\" }, \\\"metricFlushMetricInterval\\\": 10000, \\\"metricFlushMetricEnabled\\\": true, \\\"metricFlushMetricFlushInterval\\\": 10000, \\\"metricFlushMetricFlushSize\\\": 1000, \\\"metricFlushMetricFlushTimeout\\\": 10000, \\\"metricFlushMetricFlushMaxRetries\\\": 3, \\\"metricFlushMetricFlushRetryBackoffMs\\\": 100, \\\"metricFlushMetricFlushRequestTimeoutMs\\\": 30000, \\\"metricFlushMetricFlushConnectTimeoutMs\\\": 10000, \\\"metricFlushMetricFlushSendBufferSize\\\": 102400, \\\"metricFlushMetricFlushReceiveBufferSize\\\": 102400, \\\"metricFlushMetricFlushMaxRequestSize\\\": 1048576, \\\"metricFlushMetricFlushMaxPartitionFetchBytes\\\": 1048576, \\\"metricFlushMetricFlushFetchMinBytes\\\": 1, \\\"metricFlushMetricFlushFetchMaxWaitMs\\\": 500, \\\"metricFlushMetricFlushSessionTimeoutMs\\\": 60000, \\\"metricFlushMetricFlushHeartbeatIntervalMs\\\": 3000, \\\"metricFlushMetricFlushMetricPrefix\\\": \\\"kafka\\\", \\\"metricFlushMetricFlushMetricTags\\\": { \\\"topic\\\": \\\"logs\\\" }, \\\"metricFlushMetricFlushMetricInterval\\\": 10000, \\\"metricFlushMetricFlushMetricEnabled\\\": true, \\\"metricFlushMetricFlushMetricFlushInterval\\\": 10000, \\\"metricFlushMetricFlushMetricFlushSize\\\": 1000, \\\"metricFlushMetricFlushMetricFlushTimeout\\\": 10000, \\\"metricFlushMetricFlushMetricFlushMaxRetries\\\": 3, \\\"metricFlushMetricFlushMetricFlushRetryBackoffMs\\\": 100, \\\"metricFlushMetricFlushMetricFlushRequestTimeoutMs\\\": 30000, \\\"metricFlushMetricFlushMetricFlushConnectTimeoutMs\\\": 10000, \\\"metricFlushMetricFlushMetricFlushSendBufferSize\\\": 102400, \\\"metricFlushMetricFlushMetricFlushReceiveBufferSize\\\": 102400, \\\"metricFlushMetricFlushMetricFlushMaxRequestSize\\\": 1048576, \\\"metricFlushMetricFlushMetricFlushMaxPartitionFetchBytes\\\": 1048576, \\\"metricFlushMetricFlushMetricFlushFetchMinBytes\\\": 1, \\\"metricFlushMetricFlushMetricFlushFetchMaxWaitMs\\\": 500, \\\"metricFlushMetricFlushMetricFlushSessionTimeoutMs\\\": 60000, \\\"metricFlushMetricFlushMetricFlushHeartbeatIntervalMs\\\": 3000, \\\"metricFlushMetricFlushMetricFlushMetricPrefix\\\": \\\"kafka\\\", \\\"metricFlushMetricFlushMetricFlushMetricTags\\\": { \\\"topic\\\": \\\"logs\\\" }, \\\"metricFlushMetricFlushMetricFlushMetricInterval\\\": 10000, \\\"metricFlushMetricFlushMetricFlushMetricEnabled\\\": true, \\\"metricFlushMetricFlushMetricFlushMetricFlushInterval\\\": 10000, \\\"metricFlushMetricFlushMetricFlushMetricFlushSize\\\": 1000, \\\"metricFlushMetricFlushMetricFlushMetricFlushTimeout\\\": 10000, \\\"metricFlushMetricFlushMetricFlushMetricFlushMaxRetries\\\": 3, \\\"metricFlushMetricFlushMetricFlushMetricFlushRetryBackoffMs\\\": 100, \\\"metricFlushMetricFlushMetricFlushMetricFlushRequestTimeoutMs\\\": 30000, \\\"metricFlushMetricFlushMetricFlushMetricFlushConnectTimeoutMs\\\": 10000, \\\"metricFlushMetricFlushMetricFlushMetricFlushSendBufferSize\\\": 102400, \\\"metricFlushMetricFlushMetricFlushMetricFlushReceiveBufferSize\\\": 102400, \\\"metricFlushMetricFlushMetricFlushMetricFlushMaxRequestSize\\\": 1048576, \\\"metricFlushMetricFlushMetricFlushMetricFlushMaxPartitionFetchBytes\\\": 1048576, \\\"metricFlushMetricFlushMetricFlushMetricFlushFetchMinBytes\\\": 1, \\\"metricFlushMetricFlushMetricFlushMetricFlushFetchMaxWaitMs\\\": 500, \\\"metricFlushMetricFlushMetricFlushMetricFlushSessionTimeoutMs\\\": 60000, \\\"metricFlushMetricFlushMetricFlushMetricFlushHeartbeatIntervalMs\\\": 3000, \\\"metricFlushMetricFlushMetricFlushMetricFlushMetricPrefix\\\": \\\"kafka\\\", \\\"metricFlushMetricFlushMetricFlushMetricFlushMetricTags\\\": { \\\"topic\\\": \\\"logs\\\" }, \\\"metricFlushMetricFlushMetricFlushMetricFlushMetricInterval\\\": 10000, \\\"metricFlushMetricFlushMetricFlushMetricFlushMetricEnabled\\\": true, \\\"metricFlushMetricFlushMetricFlushMetricFlushMetricFlushInterval\\\": 10000, \\\"metricFlushMetricFlushMetricFlushMetricFlushMetricFlushSize\\\": 1000, \\\"metricFlushMetricFlushMetricFlushMetricFlushMetricFlushTimeout\\\": 10000, \\\"metricFlushMetricFlushMetricFlushMetricFlushMetricFlushMaxRetries\\\": 3, \\\"metricFlushMetricFlushMetricFlushMetricFlushMetricFlushRetryBackoffMs\\\": 100, \\\"metricFlushMetricFlushMetricFlushMetricFlushMetricFlushRequestTimeoutMs\\\": 30000, \\\"metricFlushMetricFlushMetricFlushMetricFlushMetricFlushConnectTimeoutMs\\\": 10000, \\\"metricFlushMetricFlushMetricFlushMetricFlushMetricFlushSendBufferSize\\\": 102400, \\\"metricFlushMetricFlushMetricFlushMetricFlushMetricFlushReceiveBufferSize\\\": 102400, \\\"metricFlushMetricFlushMetricFlushMetricFlushMetricFlushMaxRequestSize\\\": 1048576, \\\"metricFlushMetricFlushMetricFlushMetricFlushMetricFlushMaxPartitionFetchBytes\\\": 1048576, \\\"metricFlushMetricFlushMetricFlushMetricFlushMetricFlushFetchMinBytes\\\": 1, \\\"metricFlushMetricFlushMetricFlushMetricFlushMetricFlushFetchMaxWaitMs\\\": 500, \\\"metricFlushMetricFlushMetricFlushMetricFlushMetricFlushSessionTimeoutMs\\\": 60000, \\\"metricFlushMetricFlushMetricFlushMetricFlushMetricFlushHeartbeatIntervalMs\\\": 3000, \\\"metricFlushMetricFlushMetricFlushMetricFlushMetricFlushMetricPrefix\\\": \\\"kafka\\\", \\\"metricFlushMetricFlushMetricFlushMetricFlushMetricFlushMetricTags\\\": { \\\"topic\\\": \\\"logs\\\" }, \\\"metricFlushMetricFlushMetricFlushMetricFlushMetricFlushMetricInterval\\\": 10000, \\\"metricFlushMetricFlushMetricFlushMetricFlushMetricFlushMetricEnabled\\\": true, \\\"metricFlushMetricFlushMetricFlushMetricFlushMetricFlushMetricFlushInterval\\\": 10000, \\\"metricFlushMetricFlushMetricFlushMetricFlushMetricFlushMetricFlushSize\\\": 1000, \\\"metricFlushMetricFlushMetricFlushMetricFlushMetricFlushMetricFlushTimeout\\\": 10000, \\\"metricFlushMetricFlushMetricFlushMetricFlushMetricFlushMetricFlushMaxRetries\\\": 3, \\\"metricFlushMetricFlushMetricFlushMetricFlushMetricFlushMetricFlushRetryBackoffMs\\\": 100, \\\"metricFlushMetricFlushMetricFlushMetricFlushMetricFlushMetricFlushRequestTimeoutMs\\\": 30000, \\\"metricFlushMetricFlushMetricFlushMetricFlushMetricFlushMetricFlushConnectTimeoutMs\\\": 10000, \\\"metricFlushMetricFlushMetricFlushMetricFlushMetricFlushMetricFlushSendBufferSize\\\": 102400, \\\"metricFlushMetricFlushMetricFlushMetricFlushMetricFlushMetricFlushReceiveBufferSize\\\": 102400, \\\"metricFlushMetricFlushMetricFlushMetricFlushMetricFlushMetricFlushMaxRequestSize\\\": 1048576, \\\"metricFlushMetricFlushMetricFlushMetricFlushMetricFlushMetricFlushMaxPartitionFetchBytes\\\": 1048576, \\\"metricFlushMetricFlushMetricFlushMetricFlushMetricFlushMetricFlushFetchMinBytes\\\": 1, \\\"metricFlushMetricFlushMetricFlushMetricFlushMetricFlushMetricFlushFetchMaxWaitMs\\\": 500, \\\"metricFlushMetricFlushMetricFlushMetricFlushMetricFlushMetricFlushSessionTimeoutMs\\\": 60000, \\\"metricFlushMetricFlushMetricFlushMetricFlushMetricFlushMetricFlushHeartbeatIntervalMs\\\": 3000, \\\"metricFlushMetricFlushMetricFlushMetricFlushMetricFlushMetricFlushMetricPrefix\\\": \\\"kafka\\\", \\\"metricFlushMetricFlushMetricFlushMetricFlushMetricFlushMetricFlushMetricTags\\\": { \\\"topic\\\": \\\"logs\\\" }, \\\"metricFlushMetricFlushMetricFlushMetricFlushMetricFlushMetricFlushMetricInterval\\\": 10000, \\\"metricFlushMetricFlushMetricFlushMetricFlushMetricFlushMetricFlushMetricEnabled\\\": true, \\\"metricFlushMetricFlushMetricFlushMetricFlushMetricFlushMetricFlushMetricFlushInterval\\\": 10000, \\\"metricFlushMetricFlushMetricFlushMetricFlushMetricFlushMetricFlushMetricFlushSize\\\": 1000, \\\"metricFlushMetricFlushMetricFlushMetricFlushMetricFlushMetricFlushMetricFlushTimeout\\\": 10000, \\\"metricFlushMetricFlushMetricFlushMetricFlushMetricFlushMetricFlushMetricFlushMaxRetries\\\": 3, \\\"metricFlushMetricFlushMetricFlushMetricFlushMetricFlushMetricFlushMetricFlushRetryBackoffMs\\\": 100, \\\"metricFlushMetricFlushMetricFlushMetricFlushMetricFlushMetricFlushMetricFlushRequestTimeoutMs\\\": 30000, \\\"metricFlushMetricFlushMetricFlushMetricFlushMetricFlushMetricFlushMetricFlushConnectTimeoutMs\\\": 10000, \\\"metricFlushMetricFlushMetricFlushMetricFlushMetricFlushMetricFlushMetricFlushSendBufferSize\\\": 102400, \\\"metricFlushMetricFlushMetricFlushMetricFlushMetricFlushMetricFlushMetricFlushReceiveBufferSize\\\": 102400, \\\"metricFlushMetricFlushMetricFlushMetricFlushMetricFlushMetricFlushMetricFlushMaxRequestSize\\\": 1048576, \\\"metricFlushMetricFlushMetricFlushMetricFlushMetricFlushMetricFlushMetricFlushMaxPartitionFetchBytes\\\": 1048576, \\\"metricFlushMetricFlushMetricFlushMetricFlushMetricFlushMetricFlushMetricFlushFetchMinBytes\\\": 1, \\\"metricFlushMetricFlushMetricFlushMetricFlushMetricFlushMetricFlushMetricFlushFetchMaxWaitMs\\\": 500, \\\"metricFlushMetricFlushMetricFlushMetricFlushMetricFlushMetricFlushMetricFlushSessionTimeoutMs\\\": 60000, \\\"metricFlushMetricFlushMetricFlushMetricFlushMetricFlushMetricFlushMetricFlushHeartbeatIntervalMs\\\": 3000, \\\"metricFlushMetricFlushMetricFlushMetricFlushMetricFlushMetricFlushMetricFlushMetricPrefix\\\": \\\"kafka\\\", \\\"metricFlushMetricFlushMetricFlushMetricFlushMetricFlushMetricFlushMetricFlushMetricTags\\\": { \\\"topic\\\": \\\"logs\\\" }, \\\"metricFlushMetricFlushMetricFlushMetricFlushMetricFlushMetricFlushMetricFlushMetricInterval\\\": 10000, \\\"metricFlushMetricFlushMetricFlushMetricFlushMetricFlushMetricFlushMetricFlushMetricEnabled\\\": true, \\\"metricFlushMetricFlushMetricFlushMetricFlushMetricFlushMetricFlushMetricFlushMetricFlushInterval\\\": 10000, \\\"metricFlushMetricFlushMetricFlushMetricFlushMetricFlushMetricFlushMetricFlushMetricFlushSize\\\": 1000, \\\"metricFlushMetricFlushMetricFlushMetricFlushMetricFlushMetricFlushMetricFlushMetricFlushTimeout\\\": 10000, \\\"metricFlushMetricFlushMetricFlushMetricFlushMetricFlushMetricFlushMetricFlushMetricFlushMaxRetries\\\": 3, \\\"metricFlushMetricFlushMetricFlushMetricFlushMetricFlushMetricFlushMetricFlushMetricFlushRetryBackoffMs\\\": 100, \\\"metricFlushMetricFlushMetricFlushMetricFlushMetricFlushMetricFlushMetricFlushMetricFlushRequestTimeoutMs\\\": 30000, \\\"metricFlushMetricFlushMetricFlushMetricFlushMetricFlushMetricFlushMetricFlushMetricFlushConnectTimeoutMs\\\": 10000, \\\"metricFlushMetricFlushMetricFlushMetricFlushMetricFlushMetricFlushMetricFlushMetricFlushSendBufferSize\\\": 102400, \\\"metricFlushMetricFlushMetricFlushMetricFlushMetricFlushMetricFlushMetricFlushMetricFlushReceiveBufferSize\\\": 102400, \\\"metricFlushMetricFlushMetricFlushMetricFlushMetricFlushMetricFlushMetricFlushMetricFlushMaxRequestSize\\\": 1048576, \\\"metricFlushMetricFlushMetricFlushMetricFlushMetricFlushMetricFlushMetricFlushMetricFlushMaxPartitionFetchBytes\\\": 1048576, \\\"metricFlushMetricFlushMetricFlushMetricFlushMetricFlushMetricFlushMetricFlushMetricFlushFetchMinBytes\\\": 1, \\\"metricFlushMetricFlushMetricFlushMetricFlushMetricFlushMetricFlushMetricFlushMetricFlushFetchMaxWaitMs\\\": 500, \\\"metricFlushMetricFlushMetricFlushMetricFlushMetricFlushMetricFlushMetricFlushMetricFlushSessionTimeoutMs\\\": 60000, \\\"metricFlushMetricFlushMetricFlushMetricFlushMetricFlushMetricFlushMetricFlushMetricFlushHeartbeatIntervalMs\\\": 3000, \\\"metricFlushMetricFlushMetricFlushMetricFlushMetricFlushMetricFlushMetricFlushMetricFlushMetricPrefix\\\": \\\"kafka\\\", \\\"metricFlushMetricFlushMetricFlushMetricFlushMetricFlushMetricFlushMetricFlushMetricFlushMetricTags\\\": { \\\"topic\\\": \\\"logs\\\" }, \\\"metricFlushMetricFlushMetricFlushMetricFlushMetricFlushMetricFlushMetricFlushMetricFlushMetricInterval\\\": 10000, \\\"metricFlushMetricFlushMetricFlushMetricFlushMetricFlushMetricFlushMetricFlushMetricFlushMetricEnabled\\\": true, \\\"metricFlushMetricFlushMetricFlushMetricFlushMetricFlushMetricFlushMetricFlushMetricFlushMetricFlushInterval\\\": 10000, \\\"metricFlushMetricFlushMetricFlushMetricFlushMetricFlushMetricFlushMetricFlushMetricFlushMetricFlushSize\\\": 1000, \\\"metricFlushMetricFlushMetricFlushMetricFlushMetricFlushMetricFlushMetricFlushMetricFlushMetricFlushTimeout\\\": 10000, \\\"metricFlushMetricFlushMetricFlushMetricFlushMetricFlushMetricFlushMetricFlushMetricFlushMetricFlushMaxRetries\\\": 3, \\\"metricFlushMetricFlushMetricFlushMetricFlushMetricFlushMetricFlushMetricFlushMetricFlushMetricFlushRetryBackoffMs\\\": 100, \\\"metricFlushMetricFlushMetricFlushMetricFlushMetricFlushMetricFlushMetricFlushMetricFlushMetricFlushRequestTimeoutMs\\\": 30000, \\\"metricFlushMetricFlushMetricFlushMetricFlushMetricFlushMetricFlushMetricFlushMetricFlushMetricFlushConnectTimeoutMs\\\": 10000, \\\"metricFlushMetricFlushMetricFlushMetricFlushMetricFlushMetricFlushMetricFlushMetricFlushMetricFlushSendBufferSize\\\": 102400, \\\"metricFlushMetricFlushMetricFlushMetricFlushMetricFlushMetricFlushMetricFlushMetricFlushMetricFlushReceiveBufferSize\\\": 102400, \\\"metricFlushMetricFlushMetricFlushMetricFlushMetricFlushMetricFlushMetricFlushMetricFlushMetricFlushMaxRequestSize\\\": 1048576, \\\"metricFlushMetricFlushMetricFlushMetricFlushMetricFlushMetricFlushMetricFlushMetricFlushMetricFlushMaxPartitionFetchBytes\\\": 1048576, \\\"metricFlushMetricFlushMetricFlushMetricFlushMetricFlushMetricFlushMetricFlushMetricFlushMetricFlushFetchMinBytes\\\": 1, \\\"metricFlushMetricFlushMetricFlushMetricFlushMetricFlushMetricFlushMetricFlushMetricFlushMetricFlushFetchMaxWaitMs\\\": 500, \\\"metricFlushMetricFlushMetricFlushMetricFlushMetricFlushMetricFlushMetricFlushMetricFlushMetricFlushSessionTimeoutMs\\\": 60000, \\\"metricFlushMetricFlushMetricFlushMetricFlushMetricFlushMetricFlushMetricFlushMetricFlushMetricFlushHeartbeatIntervalMs\\\": 3000, \\\"metricFlushMetricFlushMetricFlushMetricFlushMetricFlushMetricFlushMetricFlushMetricFlushMetricFlushMetricPrefix\\\": \\\"kafka\\\", \\\"metricFlushMetricFlushMetricFlushMetricFlushMetricFlushMetricFlushMetricFlushMetricFlushMetricFlushMetricTags\\\": { \\\"topic\\\": \\\"logs\\\" }, \\\"metricFlushMetricFlushMetricFlushMetricFlushMetricFlushMetricFlushMetricFlushMetricFlushMetricFlushMetricInterval\\\": 10000, \\\"metricFlushMetricFlushMetricFlushMetricFlushMetricFlushMetricFlushMetricFlushMetricFlushMetricFlushMetricEnabled\\\": true, \\\"metricFlushMetricFlushMetricFlushMetricFlushMetricFlushMetricFlushMetricFlushMetricFlushMetricFlushMetricFlushInterval\\\": 10000, \\\"metricFlushMetricFlushMetricFlushMetricFlushMetricFlushMetricFlushMetricFlushMetricFlushMetricFlushMetricFlushSize\\\": 1000, \\\"metricFlushMetricFlushMetricFlushMetricFlushMetricFlushMetricFlushMetricFlushMetricFlushMetricFlushMetricFlushTimeout\\\": 10000, \\\"metricFlushMetricFlushMetricFlushMetricFlushMetricFlushMetricFlushMetricFlushMetricFlushMetricFlushMetricFlushMaxRetries\\\": 3, \\\"metricFlushMetricFlushMetricFlushMetricFlushMetricFlushMetricFlushMetricFlushMetricFlushMetricFlushMetricFlushRetryBackoffMs\\\": 100, \\\"metricFlushMetricFlushMetricFlushMetricFlushMetricFlushMetricFlushMetricFlushMetricFlushMetricFlushMetricFlushRequestTimeoutMs\\\": 30000, \\\"metricFlushMetricFlushMetricFlushMetricFlushMetricFlushMetricFlushMetricFlushMetricFlushMetricFlushMetricFlushConnectTimeoutMs\\\": 10000, \\\"metricFlushMetricFlushMetricFlushMetricFlushMetricFlushMetricFlushMetricFlushMetricFlushMetricFlushMetricFlushSendBufferSize\\\": 102400, \\\"metricFlushMetricFlushMetricFlushMetricFlushMetricFlushMetricFlushMetricFlushMetricFlushMetricFlushMetricFlushReceiveBufferSize\\\": 102400, \\\"metricFlushMetricFlushMetricFlushMetricFlushMetricFlushMetricFlushMetricFlushMetricFlushMetricFlushMetricFlushMaxRequestSize\\\": 1048576, \\\"metricFlushMetricFlushMetricFlushMetricFlushMetricFlushMetricFlushMetricFlushMetricFlushMetricFlushMetricFlushMaxPartitionFetchBytes\\\": 1048576, \\\"metricFlushMetricFlushMetricFlushMetricFlushMetricFlushMetricFlushMetricFlushMetricFlushMetricFlushMetricFlushFetchMinBytes\\\": 1, \\\"metricFlushMetricFlushMetricFlushMetricFlushMetricFlushMetricFlushMetricFlushMetricFlushMetricFlushMetricFlushFetchMaxWaitMs\\\": 500, \\\"metricFlushMetricFlushMetricFlushMetricFlushMetricFlushMetricFlushMetricFlushMetricFlushMetricFlushMetricFlushSessionTimeoutMs\\\": 60000, \\\"metricFlushMetricFlushMetricFlushMetricFlushMetricFlushMetricFlushMetricFlushMetricFlushMetricFlushMetricFlushHeartbeatIntervalMs\\\": 3000, \\\"metricFlushMetricFlushMetricFlushMetricFlushMetricFlushMetricFlushMetricFlushMetricFlushMetricFlushMetricFlushMetricPrefix\\\": \\\"kafka\\\", \\\"metricFlushMetricFlushMetricFlushMetricFlushMetricFlushMetricFlushMetricFlushMetricFlushMetricFlushMetricFlushMetricTags\\\": { \\\"topic\\\": \\\"logs\\\" }, \\\"metricFlushMetricFlushMetricFlushMetricFlushMetricFlushMetricFlushMetricFlushMetricFlushMetricFlushMetricFlushMetricInterval\\\": 10000, \\\"metricFlushMetricFlushMetricFlushMetricFlushMetricFlushMetricFlushMetricFlushMetricFlushMetricFlushMetricFlushMetricEnabled\\\": true, \\\"metricFlushMetricFlushMetricFlushMetricFlushMetricFlushMetricFlushMetricFlushMetricFlushMetricFlushMetricFlushMetricFlushInterval\\\": 10000, \\\"metricFlushMetricFlushMetricFlushMetricFlushMetricFlushMetricFlushMetricFlushMetricFlushMetricFlushMetricFlushMetricFlushSize\\\": 1000, \\\"metricFlushMetricFlushMetricFlushMetricFlushMetricFlushMetricFlushMetricFlushMetricFlushMetricFlushMetricFlushMetricFlushTimeout\\\": 10000, \\\"metricFlushMetricFlushMetricFlushMetricFlushMetricFlushMetricFlushMetricFlushMetricFlushMetricFlushMetricFlushMetricFlushMaxRetries\\\": 3, \\\"metricFlushMetricFlushMetricFlushMetricFlushMetricFlushMetricFlushMetricFlushMetricFlushMetricFlushMetricFlushMetricFlushRetryBackoffMs\\\": 100, \\\"metricFlushMetricFlushMetricFlushMetricFlushMetricFlushMetricFlushMetricFlushMetricFlushMetricFlushMetricFlushMetricFlushRequestTimeoutMs\\\": 30000, \\\"metricFlushMetricFlushMetricFlushMetricFlushMetricFlushMetricFlushMetricFlushMetricFlushMetricFlushMetricFlushMetricFlushConnectTimeoutMs\\\": 10000, \\\"metricFlushMetricFlushMetricFlushMetricFlushMetricFlushMetricFlushMetricFlushMetricFlushMetricFlushMetricFlushMetricFlushSendBufferSize\\\": 102400, \\\"metricFlushMetricFlushMetricFlushMetricFlushMetricFlushMetricFlushMetricFlushMetricFlushMetricFlushMetricFlushMetricFlushReceiveBufferSize\\\": 102400, \\\"metricFlushMetricFlushMetricFlushMetricFlushMetricFlushMetricFlushMetricFlushMetricFlushMetricFlushMetricFlushMetricFlushMaxRequestSize\\\": 1048576, \\\"metricFlushMetricFlushMetricFlushMetricFlushMetricFlushMetricFlushMetricFlushMetricFlushMetricFlushMetricFlushMetricFlushMaxPartitionFetchBytes\\\": 1048576, \\\"metricFlushMetricFlushMetricFlushMetricFlushMetricFlushMetricFlushMetricFlushMetricFlushMetricFlushMetricFlushMetricFlushFetchMinBytes\\\": 1, \\\"metricFlushMetricFlushMetricFlushMetricFlushMetricFlushMetricFlushMetricFlushMetricFlushMetricFlushMetricFlushMetricFlushFetchMaxWaitMs\\\": 500, \\\"metricFlushMetricFlushMetricFlushMetricFlushMetricFlushMetricFlushMetricFlushMetricFlushMetricFlushMetricFlushMetricFlushSessionTimeoutMs\\\": 60000, \\\"metricFlushMetricFlushMetricFlushMetricFlushMetricFlushMetricFlushMetricFlushMetricFlushMetricFlushMetricFlushMetricFlushHeartbeatIntervalMs\\\": 3000, \\\"metricFlushMetricFlushMetricFlushMetricFlushMetricFlushMetricFlushMetricFlushMetricFlushMetricFlushMetricFlushMetricFlushMetricPrefix\\\": \\\"kafka\\\", \\\"metricFlushMetricFlushMetricFlushMetricFlushMetricFlushMetricFlushMetricFlushMetricFlushMetricFlushMetricFlushMetricFlushMetricTags\\\": { \\\"topic\\\": \\\"logs\\\" }, \\\"metricFlushMetricFlushMetricFlushMetricFlushMetricFlushMetricFlushMetricFlushMetricFlushMetricFlushMetricFlushMetricFlushMetricInterval\\\": 10000, \\\"metricFlushMetricFlushMetricFlushMetricFlushMetricFlushMetricFlushMetricFlushMetricFlushMetricFlushMetricFlushMetricFlushMetricEnabled\\\": true, \\\"metricFlushMetricFlushMetricFlushMetricFlushMetricFlushMetricFlushMetricFlushMetricFlushMetricFlushMetricFlushMetricFlushMetricFlushInterval\\\": 10000, \\\"metricFlushMetricFlushMetricFlushMetricFlushMetricFlushMetricFlushMetricFlushMetricFlushMetricFlushMetricFlushMetricFlushMetricFlushSize\\\": 1000, \\\"metricFlushMetricFlushMetricFlushMetricFlushMetricFlushMetricFlushMetricFlushMetricFlushMetricFlushMetricFlushMetricFlushMetricFlushTimeout\\\": 10000, \\\"metricFlushMetricFlushMetricFlushMetricFlushMetricFlushMetricFlushMetricFlushMetricFlushMetricFlushMetricFlushMetricFlushMetricFlushMaxRetries\\\": 3, \\\"metricFlushMetricFlushMetricFlushMetricFlushMetricFlushMetricFlushMetricFlushMetricFlushMetricFlushMetricFlushMetricFlushMetricFlushRetryBackoffMs\\\": 100, \\\"metricFlushMetricFlushMetricFlushMetricFlushMetricFlushMetricFlushMetricFlushMetricFlushMetricFlushMetricFlushMetricFlushMetricFlushRequestTimeoutMs\\\": 30000, \\\"metricFlushMetricFlushMetricFlushMetricFlushMetricFlushMetricFlushMetricFlushMetricFlushMetricFlushMetricFlushMetricFlushMetricFlushConnectTimeoutMs\\\": 10000, \\\"metricFlushMetricFlushMetricFlushMetricFlushMetricFlushMetricFlushMetricFlushMetricFlushMetricFlushMetricFlushMetricFlushMetricFlushSendBufferSize\\\": 102400, \\\"metricFlushMetricFlushMetricFlushMetricFlushMetricFlushMetricFlushMetricFlushMetricFlushMetricFlushMetricFlushMetricFlushMetricFlushReceiveBufferSize\\\": 102400, \\\"metricFlushMetricFlushMetricFlushMetricFlushMetricFlushMetricFlushMetricFlushMetricFlushMetricFlushMetricFlushMetricFlushMetricFlushMaxRequestSize\\\": 1048576, \\\"metricFlushMetricFlushMetricFlushMetricFlushMetricFlushMetricFlushMetricFlushMetricFlushMetricFlushMetricFlushMetricFlushMetricFlushMaxPartitionFetchBytes\\\": 1048576, \\\"metricFlushMetricFlushMetricFlushMetricFlushMetricFlushMetricFlushMetricFlushMetricFlushMetricFlushMetricFlushMetricFlushMetricFlushFetchMinBytes\\\": 1, \\\"metricFlushMetricFlushMetricFlushMetricFlushMetricFlushMetricFlushMetricFlushMetricFlushMetricFlushMetricFlushMetricFlushMetricFlushFetchMaxWaitMs\\\": 500, \\\"metricFlushMetricFlushMetricFlushMetricFlushMetricFlushMetricFlushMetricFlushMetricFlushMetricFlushMetricFlushMetricFlushMetricFlushSessionTimeoutMs\\\": 60000, \\\"metricFlushMetricFlushMetricFlushMetricFlushMetricFlushMetricFlushMetricFlushMetricFlushMetricFlushMetricFlushMetricFlushMetricFlushHeartbeatIntervalMs\\\": 3000, \\\"metricFlushMetricFlushMetricFlushMetricFlushMetricFlushMetricFlushMetricFlushMetricFlushMetricFlushMetricFlushMetricFlushMetricFlushMetricPrefix\\\": \\\"kafka\\\", \\\"metricFlushMetricFlushMetricFlushMetricFlushMetricFlushMetricFlushMetricFlushMetricFlushMetricFlushMetricFlushMetricFlushMetricFlushMetricTags\\\": { \\\"topic\\\": \\\"logs\\\" }, \\\"metricFlushMetricFlushMetricFlushMetricFlushMetricFlushMetricFlushMetricFlushMetricFlushMetricFlushMetricFlushMetricFlushMetricFlushMetricInterval\\\": 10000, \\\"metricFlushMetricFlushMetricFlushMetricFlushMetricFlushMetricFlushMetricFlushMetricFlushMetricFlushMetricFlushMetricFlushMetricFlushMetricEnabled\\\": true, \\\"metricFlushMetricFlushMetricFlushMetricFlushMetricFlushMetricFlushMetricFlushMetricFlushMetricFlushMetricFlushMetricFlushMetricFlushMetricFlushInterval\\\": 10000, \\\"metricFlushMetricFlushMetricFlushMetricFlushMetricFlushMetricFlushMetricFlushMetricFlushMetricFlushMetricFlushMetricFlushMetricFlushMetricFlushSize\\\": 1000, \\\"metricFlushMetricFlushMetricFlushMetricFlushMetricFlushMetricFlushMetricFlushMetricFlushMetricFlushMetricFlushMetricFlushMetricFlushMetricFlushTimeout\\\": 10000, \\\"metricFlushMetricFlushMetricFlushMetricFlushMetricFlushMetricFlushMetricFlushMetricFlushMetricFlushMetricFlushMetricFlushMetricFlushMetricFlushMaxRetries\\\": 3, \\\"metricFlushMetricFlushMetricFlushMetricFlushMetricFlushMetricFlushMetricFlushMetricFlushMetricFlushMetricFlushMetricFlushMetricFlushMetricFlushRetryBackoffMs\\\": 100, \\\"metricFlushMetricFlushMetricFlushMetricFlushMetricFlushMetricFlushMetricFlushMetricFlushMetricFlushMetricFlushMetricFlushMetricFlushMetricFlushRequestTimeoutMs\\\": 30000, \\\"metricFlushMetricFlushMetricFlushMetricFlushMetricFlushMetricFlushMetricFlushMetricFlushMetricFlushMetricFlushMetricFlushMetricFlushMetricFlushConnectTimeoutMs\\\": 10000, \\\"metricFlushMetricFlushMetricFlushMetricFlushMetricFlushMetricFlushMetricFlushMetricFlushMetricFlushMetricFlushMetricFlushMetricFlushMetricFlushSendBufferSize\\\": 102400, \\\"metricFlushMetricFlushMetricFlushMetricFlushMetricFlushMetricFlushMetricFlushMetricFlushMetricFlushMetricFlushMetricFlushMetricFlushMetricFlushReceiveBufferSize\\\": 102400, \\\"metricFlushMetricFlushMetricFlushMetricFlushMetricFlushMetricFlushMetricFlushMetricFlushMetricFlushMetricFlushMetricFlushMetricFlushMetricFlushMaxRequestSize\\\": 1048576, \\\"metricFlushMetricFlushMetricFlushMetricFlushMetricFlushMetricFlushMetricFlushMetricFlushMetricFlushMetricFlushMetricFlushMetricFlushMetricFlushMaxPartitionFetchBytes\\\": 1048576, \\\"metricFlushMetricFlushMetricFlushMetricFlushMetricFlushMetricFlushMetricFlushMetricFlushMetricFlushMetricFlushMetricFlushMetricFlushMetricFlushFetchMinBytes\\\": 1, \\\"metricFlushMetricFlushMetricFlushMetricFlushMetricFlushMetricFlushMetricFlushMetricFlushMetricFlushMetricFlushMetricFlushMetricFlushMetricFlushFetchMaxWaitMs\\\": 500, \\\"metricFlushMetricFlushMetricFlushMetricFlushMetricFlushMetricFlushMetricFlushMetricFlushMetricFlushMetricFlushMetricFlushMetricFlushMetricFlushSessionTimeoutMs\\\": 60000, \\\"metricFlushMetricFlushMetricFlushMetricFlushMetricFlushMetricFlushMetricFlushMetricFlushMetricFlushMetricFlushMetricFlushMetricFlushMetricFlushHeartbeatIntervalMs\\\": 3000, \\\"metricFlushMetricFlushMetricFlushMetricFlushMetricFlushMetricFlushMetricFlushMetricFlushMetricFlushMetricFlushMetricFlushMetricFlushMetricFlushMetricPrefix\\\": \\\"kafka\\\", \\\"metricFlushMetricFlushMetricFlushMetricFlushMetricFlushMetricFlushMetricFlushMetricFlushMetricFlushMetricFlushMetricFlushMetricFlushMetricFlushMetricTags\\\": { \\\"topic\\\": \\\"logs\\\" }, \\\"metricFlushMetricFlushMetricFlushMetricFlushMetricFlushMetricFlushMetricFlushMetricFlushMetricFlushMetricFlushMetricFlushMetricFlushMetricFlushMetricInterval\\\": 10000, \\\"metricFlushMetricFlushMetricFlushMetricFlushMetricFlushMetricFlushMetricFlushMetricFlushMetricFlushMetricFlushMetricFlushMetricFlushMetricFlushMetricEnabled\\\": true, \\\"metricFlushMetricFlushMetricFlushMetricFlushMetricFlushMetricFlushMetricFlushMetricFlushMetricFlushMetricFlushMetricFlushMetricFlushMetricFlushInterval\\\": 10000, \\\"metricFlushMetricFlushMetricFlushMetricFlushMetricFlushMetricFlushMetricFlushMetricFlushMetricFlushMetricFlushMetricFlushMetricFlushMetricFlushSize\\\": 1000, \\\"metricFlushMetricFlushMetricFlushMetricFlushMetricFlushMetricFlushMetricFlushMetricFlushMetricFlushMetricFlushMetricFlushMetricFlushMetricFlushTimeout\\\": 10000, \\\"metricFlushMetricFlushMetricFlushMetricFlushMetricFlushMetricFlushMetricFlushMetricFlushMetricFlushMetricFlushMetricFlushMetricFlushMetricFlushMaxRetries\\\": 3, \\\"metricFlushMetricFlushMetricFlushMetricFlushMetricFlushMetricFlushMetricFlushMetricFlushMetricFlushMetricFlushMetricFlushMetricFlushMetricFlushRetryBackoffMs\\\": 100, \\\"metricFlushMetricFlushMetricFlushMetricFlushMetricFlushMetricFlushMetricFlushMetricFlushMetricFlushMetricFlushMetricFlushMetricFlushMetricFlushRequestTimeoutMs\\\": 30000, \\\"metricFlushMetricFlushMetricFlushMetricFlushMetricFlushMetricFlushMetricFlushMetricFlushMetricFlushMetricFlushMetricFlushMetricFlushMetricFlushConnectTimeoutMs\\\": 10000, \\\"metricFlushMetricFlushMetricFlushMetricFlushMetricFlushMetricFlushMetricFlushMetricFlushMetricFlushMetricFlushMetricFlushMetricFlushMetricFlushSendBufferSize\\\": 102400, \\\"metricFlushMetricFlushMetricFlushMetricFlushMetricFlushMetricFlushMetricFlushMetricFlushMetricFlushMetricFlushMetricFlushMetricFlushMetricFlushReceiveBufferSize\\\": 102400, \\\"metricFlushMetricFlushMetricFlushMetricFlushMetricFlushMetricFlushMetricFlushMetricFlushMetricFlushMetricFlushMetricFlushMetricFlushMetricFlushMaxRequestSize\\\": 1048576, \\\"metricFlushMetricFlushMetricFlushMetricFlushMetricFlushMetricFlushMetricFlushMetricFlushMetricFlushMetricFlushMetricFlushMetricFlushMetricFlushMaxPartitionFetchBytes\\\": 1048576, \\\"metricFlushMetricFlushMetricFlushMetricFlushMetricFlushMetricFlushMetricFlushMetricFlushMetricFlushMetricFlushMetricFlushMetricFlushMetricFlushFetchMinBytes\\\": 1, \\\"metricFlushMetricFlushMetricFlushMetricFlushMetricFlushMetricFlushMetricFlushMetricFlushMetricFlushMetricFlushMetricFlushMetricFlushMetricFlushFetchMaxWaitMs\\\": 500, \\\"metricFlushMetricFlushMetricFlushMetricFlushMetricFlushMetricFlushMetricFlushMetricFlushMetricFlushMetricFlushMetricFlushMetricFlushMetricFlushSessionTimeoutMs\\\": 60000, \\\"metricFlushMetricFlushMetricFlushMetricFlushMetricFlushMetricFlushMetricFlushMetricFlushMetricFlushMetricFlushMetricFlushMetricFlushMetricFlushHeartbeatIntervalMs\\\": 3000, \\\"metricFlushMetricFlushMetricFlushMetricFlushMetricFlushMetricFlushMetricFlushMetricFlushMetricFlushMetricFlushMetricFlushMetricFlushMetricFlushMetricPrefix\\\": \\\"kafka\\\", \\\"metricFlushMetricFlushMetricFlushMetricFlushMetricFlushMetricFlushMetricFlushMetricFlushMetricFlushMetricFlushMetricFlushMetricFlushMetricFlushMetricTags\\\": { \\\"topic\\\": \\\"logs\\\" }, \\\"metricFlushMetricFlushMetricFlushMetricFlushMetricFlushMetricFlushMetricFlushMetricFlushMetricFlushMetricFlushMetricFlushMetricFlushMetricFlushMetricInterval\\\": 10000, \\\"metricFlushMetricFlushMetricFlushMetricFlushMetricFlushMetricFlushMetricFlushMetricFlushMetricFlushMetricFlushMetricFlushMetricFlushMetricFlushMetricEnabled\\\": true, \\\"metricFlushMetricFlushMetricFlushMetric"
      ],
      "text/plain": [
       "<IPython.core.display.Markdown object>"
      ]
     },
     "metadata": {},
     "output_type": "display_data"
    }
   ],
   "source": [
    "from IPython.display import display, Markdown\n",
    "\n",
    "display(Markdown(response.text))"
   ]
  },
  {
   "cell_type": "code",
   "execution_count": null,
   "id": "8cead06f-d288-4157-a0f2-1976e07b7a39",
   "metadata": {},
   "outputs": [],
   "source": []
  }
 ],
 "metadata": {
  "kernelspec": {
   "display_name": "Python 3 (ipykernel)",
   "language": "python",
   "name": "python3"
  },
  "language_info": {
   "codemirror_mode": {
    "name": "ipython",
    "version": 3
   },
   "file_extension": ".py",
   "mimetype": "text/x-python",
   "name": "python",
   "nbconvert_exporter": "python",
   "pygments_lexer": "ipython3",
   "version": "3.11.6"
  }
 },
 "nbformat": 4,
 "nbformat_minor": 5
}
